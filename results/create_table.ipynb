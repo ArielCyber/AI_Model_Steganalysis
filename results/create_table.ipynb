{
 "cells": [
  {
   "cell_type": "code",
   "execution_count": 1,
   "metadata": {},
   "outputs": [],
   "source": [
    "import pandas as pd\n",
    "\n",
    "df = pd.read_csv(f'results_supervised_old2.csv')\n",
    "t = tuple(df.groupby(['zoo', 'clf', 'feature_type']))\n",
    "\n",
    "column_names = {\n",
    "    'lsb': r'\\# LSB bits modified',\n",
    "    'accuracy': r'Accuracy',\n",
    "    'recall': r'Recall',\n",
    "    'precision': r'Precision',\n",
    "    'f1': r'F1-score',\n",
    "}\n",
    "\n",
    "df_chosen = t[0][1]\n",
    "df_chosen.sort_values(by=['lsb'], inplace=True, ascending=[False])\n",
    "df_chosen.drop(columns=['zoo', 'feature_type', 'clf', 'conf_mat'], inplace=True)\n",
    "df_chosen.rename(columns=column_names, inplace=True)\n",
    "\n",
    "\n",
    "precision_format = {k: \"{:.0f}\" if \"lsb\" in k.lower() else \"{:.2f}\" for k in column_names.values()}\n",
    "\n",
    "tab = df_chosen.style.format_index(\n",
    "    axis=1, formatter=\"{}\".format).hide(\n",
    "    axis=0).format(\n",
    "        precision_format\n",
    "    ).set_table_styles([\n",
    "        {'selector': 'toprule', 'props': ':hline;'},\n",
    "        {'selector': 'midrule', 'props': ':hline;'},\n",
    "    ], overwrite=False)\n",
    "\n",
    "prefix_str = r\"\"\"\\begin{table}[th]\n",
    "\\centering\n",
    "\\begin{adjustbox}{width=\\columnwidth}\n",
    "\"\"\"\n",
    "\n",
    "postfix_str = r\"\"\"\n",
    "\\end{adjustbox}\n",
    "\\end{table}\n",
    "\"\"\"\n",
    "\n",
    "tab_str=  tab.to_latex(column_format=\"|c c c c c|\", hrules=False,)\n",
    "tab_str_lines = tab_str.splitlines()\n",
    "tab_str_lines = list(map(lambda line: line.replace(r'\\\\', r'\\\\ \\hline'), tab_str_lines))\n",
    "\n",
    "tab_str_processed = \"\\n\".join(tab_str_lines)\n",
    "final_tab_str = prefix_str+tab_str_processed+postfix_str\n",
    "\n",
    "with open('table.tex', 'w') as f:\n",
    "    f.write(final_tab_str)"
   ]
  }
 ],
 "metadata": {
  "kernelspec": {
   "display_name": "danigil-steganalysis",
   "language": "python",
   "name": "python3"
  },
  "language_info": {
   "codemirror_mode": {
    "name": "ipython",
    "version": 3
   },
   "file_extension": ".py",
   "mimetype": "text/x-python",
   "name": "python",
   "nbconvert_exporter": "python",
   "pygments_lexer": "ipython3",
   "version": "3.8.8"
  },
  "orig_nbformat": 4
 },
 "nbformat": 4,
 "nbformat_minor": 2
}
