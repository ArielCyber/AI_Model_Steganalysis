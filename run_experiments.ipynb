{
 "cells": [
  {
   "cell_type": "markdown",
   "metadata": {},
   "source": [
    "#### ghrp code taken from https://github.com/HSG-AIML/NeurIPS_2022-Generative_Hyper_Representations.git\n",
    "#### credit for AE and model zoo used in these experiments go to them "
   ]
  },
  {
   "cell_type": "markdown",
   "metadata": {},
   "source": [
    "# Setup\n",
    "**Recommended** - create conda environment from environment.yml file:  \n",
    "&nbsp;&nbsp;Use command: ```conda env create --name envname --file=environment.yml```\n",
    "\n",
    "**Run setup.py:**  \n",
    "<span style=\"color:red\">**WARNING:**</span> This will download 2.7GB to your system.  \n",
    "&nbsp;&nbsp;Use command: ```python setup.py```  \n",
    "&nbsp;&nbsp;<span style=\"color:blue\">Disclaimer:</span> This could take a while, please wait.  \n",
    "  \n",
    "**In order to run experiments you need to place malware to embed in the zoo in data/malware**"
   ]
  },
  {
   "cell_type": "markdown",
   "metadata": {},
   "source": [
    "# Run experiments"
   ]
  },
  {
   "cell_type": "code",
   "execution_count": null,
   "metadata": {},
   "outputs": [],
   "source": [
    "from feature_extraction import create_grads_dataset\n",
    "from classification import generate_results\n",
    "\n",
    "\"\"\"You need to choose which zoo to run experiments on:\n",
    "    Options are:\n",
    "        cifar10\n",
    "        mnist\n",
    "        stl10\n",
    "        svhn\n",
    "\"\"\"\n",
    "chosen_zoo = \"mnist\"\n",
    "n_jobs = -1 # Beware: -1 means use all available cores\n",
    "malware_name = \"Enter malware file name here\"\n",
    "\n",
    "create_grads_dataset(chosen_zoo, malware_name=malware_name, n_jobs=n_jobs)\n",
    "generate_results(chosen_zoo, n_jobs=n_jobs)"
   ]
  },
  {
   "cell_type": "markdown",
   "metadata": {},
   "source": [
    "### After experiments run you can look at results in results/visualize_results.ipynb"
   ]
  }
 ],
 "metadata": {
  "language_info": {
   "name": "python"
  },
  "orig_nbformat": 4
 },
 "nbformat": 4,
 "nbformat_minor": 2
}
