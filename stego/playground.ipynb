{
 "cells": [
  {
   "cell_type": "code",
   "execution_count": 8,
   "metadata": {},
   "outputs": [
    {
     "name": "stdout",
     "output_type": "stream",
     "text": [
      "['00111110101010101010110000110010',\n",
      " '00111110000100111010100100101010',\n",
      " '00111000111111011100000101100001',\n",
      " '00111100110011011001111010000100',\n",
      " '00111111001010101010101010101011',\n",
      " '00111110101101100000011011011001',\n",
      " '00110100010101101011111110010101',\n",
      " '00111100101011111010101110111111']\n"
     ]
    }
   ],
   "source": [
    "from floatbits import *\n",
    "from pprint import pprint\n",
    "floats_to_binary = [0.333345, 0.1442, 0.000121, 0.0251, 0.6666667, 0.355521, 0.0000002, 0.0214442]\n",
    "bin_map = {False: '0', True: '1'}\n",
    "binary_bits = [''.join([bin_map[b] for b in float_to_binary(f)]) for f in floats_to_binary]\n",
    "pprint(binary_bits)"
   ]
  },
  {
   "cell_type": "code",
   "execution_count": 11,
   "metadata": {},
   "outputs": [],
   "source": [
    "str_map = {'0': False, '1': True}\n",
    "\n",
    "#binmat = [list(map(lambda c: str_map[c] ,[*s])) for s in binary_bits]"
   ]
  },
  {
   "cell_type": "code",
   "execution_count": 19,
   "metadata": {},
   "outputs": [
    {
     "name": "stdout",
     "output_type": "stream",
     "text": [
      "23\n"
     ]
    }
   ],
   "source": [
    "s = binary_bits[0]\n",
    "\n",
    "print(len(tuple([*s][9:])))"
   ]
  },
  {
   "cell_type": "code",
   "execution_count": 21,
   "metadata": {},
   "outputs": [
    {
     "name": "stdout",
     "output_type": "stream",
     "text": [
      "[0.3333449959754944,\n",
      " 0.14419999718666077,\n",
      " 0.00012099999730708078,\n",
      " 0.025100000202655792,\n",
      " 0.6666666865348816,\n",
      " 0.35552099347114563,\n",
      " 2.0000000233721948e-07,\n",
      " 0.021444199606776237]\n"
     ]
    }
   ],
   "source": [
    "float_reconstructed = [charbin_to_float(binstr[0], tuple([*binstr][1:9]), tuple([*binstr][9:])) for binstr in binary_bits]\n",
    "pprint(float_reconstructed)"
   ]
  },
  {
   "cell_type": "code",
   "execution_count": 5,
   "metadata": {},
   "outputs": [
    {
     "name": "stdout",
     "output_type": "stream",
     "text": [
      "2.0\n",
      "36893488147419103232.0\n",
      "2.00000023841857910156250\n"
     ]
    }
   ],
   "source": [
    "from floatbits import binstr_to_float\n",
    "base = binstr_to_float(\"01\"+\"0\"*30)\n",
    "msb = binstr_to_float(\"011\"+\"0\"*29)\n",
    "lsb = binstr_to_float(\"01\"+\"0\"*29+\"1\")\n",
    "\n",
    "print('{:.1f}'.format(base))\n",
    "print('{:.1f}'.format(msb))\n",
    "print('{:.23f}'.format(lsb))"
   ]
  },
  {
   "cell_type": "markdown",
   "metadata": {},
   "source": [
    "# Binary32"
   ]
  },
  {
   "cell_type": "code",
   "execution_count": 20,
   "metadata": {},
   "outputs": [
    {
     "name": "stdout",
     "output_type": "stream",
     "text": [
      "0.15625\n",
      "0.15625\n",
      "00111110001000000000000000000000\n"
     ]
    }
   ],
   "source": [
    "from floatbits import binstr_to_float, float_to_binary\n",
    "def binary32str_to_float(s):\n",
    "    assert len(s) == 32, \"binary32str must be 32 characters long\"\n",
    "    only_01 = set(s) <= {\"0\", \"1\", 0, 1}\n",
    "    assert only_01, \"binary32str must only contain 0s and 1s\"\n",
    "    if type(s) is not str:\n",
    "        s = \"\".join(str(x) for x in s)\n",
    "\n",
    "    sign = int(s[0])\n",
    "    exponent = int(s[1:9], 2)\n",
    "    mantissa = int(s[9:], 2)\n",
    "\n",
    "    return (-1)**sign * 2**(exponent - 127) * (1 + mantissa / 2**23)\n",
    "\n",
    "s = \"0\"+\"01111100\"+\"01000000000000000000000\"\n",
    "f = binary32str_to_float(s)\n",
    "#print(f)\n",
    "f_stego = binstr_to_float(s)\n",
    "print(f_stego)\n",
    "assert f == f_stego\n",
    "\n",
    "s_stego = ''.join(str(i) for i in float_to_binary(f, bool=False))\n",
    "print(s_stego)\n",
    "assert s == s_stego\n"
   ]
  },
  {
   "cell_type": "code",
   "execution_count": 24,
   "metadata": {},
   "outputs": [
    {
     "name": "stdout",
     "output_type": "stream",
     "text": [
      "3.6893488147419103e+19\n"
     ]
    }
   ],
   "source": [
    "print(binary32str_to_float(\"011\"+\"0\"*29))"
   ]
  },
  {
   "cell_type": "code",
   "execution_count": 23,
   "metadata": {},
   "outputs": [
    {
     "name": "stdout",
     "output_type": "stream",
     "text": [
      "b_{0}b_{1}b_{2}b_{3}b_{4}b_{5}b_{6}b_{7}b_{8}b_{9}b_{10}b_{11}b_{12}b_{13}b_{14}b_{15}b_{16}b_{17}b_{18}b_{19}b_{20}b_{21}b_{22}b_{23}b_{24}b_{25}b_{26}b_{27}b_{28}b_{29}b_{30}b_{31}"
     ]
    }
   ],
   "source": [
    "for i in range(32):\n",
    "    print(f\"b_\\u007b{i}\\u007d\", end=\"\")"
   ]
  }
 ],
 "metadata": {
  "kernelspec": {
   "display_name": "danigil-steganalysis",
   "language": "python",
   "name": "python3"
  },
  "language_info": {
   "codemirror_mode": {
    "name": "ipython",
    "version": 3
   },
   "file_extension": ".py",
   "mimetype": "text/x-python",
   "name": "python",
   "nbconvert_exporter": "python",
   "pygments_lexer": "ipython3",
   "version": "3.8.8"
  },
  "orig_nbformat": 4
 },
 "nbformat": 4,
 "nbformat_minor": 2
}
